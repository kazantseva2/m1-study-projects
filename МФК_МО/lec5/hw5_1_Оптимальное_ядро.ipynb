{
 "cells": [
  {
   "cell_type": "markdown",
   "metadata": {
    "id": "tttQs1_6kJ5c"
   },
   "source": [
    "# Оптимальное ядро\n",
    "\n",
    "Ваша задача - подобрать оптимальное ядро для решения задачи классификации датасета `breast cancer` при помощи алгоритма `SVC`. Заполните шаблон кода, приведённый ниже, и выберите оптимальное ядро при фиксированных остальных гиперпараметрах.\n",
    "\n",
    "Значения других гиперпараметров:\n",
    "\n",
    "* C = 1.0\n",
    "* degree (для полиномиального ядра) = 2\n",
    "* gamma = 'auto'\n",
    "* random_state = 42\n",
    "\n",
    "Ядра, которые слеедует попробовать: линейное, полиномиальное, радиальное, сигмоидальное.\n",
    "\n",
    "В качестве ответа укажите строковое название наилучшего ядра без кавычек и других дополнительных символов в нижнем регистре. Имеется в виду название, которое Вы передаёте в аргумент SVC (то есть, например, не `полиномиальное`, а `poly`)\n",
    "\n",
    "Для проверки качества решения задачи используйте `accuracy` с применением разбиения выборки на train и test с параметром `test_size=0.2` и `random_state=42`.\n",
    "\n",
    "Не забудьте об использовании `StandardScaler`"
   ]
  },
  {
   "cell_type": "code",
   "execution_count": 5,
   "metadata": {
    "id": "LwwrTz0BkL5r"
   },
   "outputs": [
    {
     "name": "stdout",
     "output_type": "stream",
     "text": [
      "Linear SVM :  0.956140350877193\n",
      "RBF SVM :  0.9824561403508771\n",
      "Polinomial SVM, degree=2 :  0.8070175438596491\n",
      "Sigmoidal kernel SVM :  0.956140350877193\n"
     ]
    }
   ],
   "source": [
    "import numpy as np\n",
    "from sklearn import datasets\n",
    "from sklearn.svm import SVC\n",
    "from sklearn.preprocessing import StandardScaler\n",
    "from sklearn.model_selection import train_test_split\n",
    "\n",
    "\n",
    "data = datasets.load_breast_cancer()\n",
    "X, y = data.data, data.target\n",
    "\n",
    "X_train, X_test, y_train, y_test = train_test_split(X, y, test_size=0.2, random_state=42) # Разбейте выборку на train и test\n",
    "\n",
    "\"\"\"\n",
    "Обучите и примените StandardScaler\n",
    "\"\"\"\n",
    "\n",
    "scaler = StandardScaler()\n",
    "X_train_scaled = scaler.fit_transform(X_train)\n",
    "X_test_scaled = scaler.transform(X_test)\n",
    "\n",
    "names = [\n",
    "    \"Linear SVM\",\n",
    "    \"RBF SVM\",\n",
    "    \"Polinomial SVM, degree=2\",\n",
    "    \"Sigmoidal kernel SVM\"\n",
    "]\n",
    "\n",
    "classifiers = [\n",
    "    SVC(kernel=\"linear\", C=1.0, random_state=42),\n",
    "    SVC(gamma='auto', C=1.0, random_state=42, kernel='rbf'),\n",
    "    SVC(C=1.0, kernel='poly', degree=2, gamma='auto', random_state=42),\n",
    "    SVC(C=1.0, kernel='sigmoid', gamma='auto', random_state=42)\n",
    "]\n",
    "\n",
    "# iterate over classifiers\n",
    "for name, clf in zip(names, classifiers):\n",
    "    clf.fit(X_train_scaled, y_train)\n",
    "    accuracy = clf.score(X_test_scaled, y_test)\n",
    "    print(name, \": \", accuracy)\n",
    "\n",
    "\n",
    "\n",
    "# def compare_svm_kernels(X_train, X_test, y_train, y_test):\n",
    "#     \"\"\"\n",
    "#       Напишите функцию, определяющую наилучшее ядро для решения данной задачи\n",
    "#     \"\"\"\n",
    "\n",
    "# compare_svm_kernels(X_train, X_test, y_train, y_test)"
   ]
  }
 ],
 "metadata": {
  "colab": {
   "provenance": []
  },
  "kernelspec": {
   "display_name": "data_analysis",
   "language": "python",
   "name": "python3"
  },
  "language_info": {
   "codemirror_mode": {
    "name": "ipython",
    "version": 3
   },
   "file_extension": ".py",
   "mimetype": "text/x-python",
   "name": "python",
   "nbconvert_exporter": "python",
   "pygments_lexer": "ipython3",
   "version": "3.12.6"
  }
 },
 "nbformat": 4,
 "nbformat_minor": 0
}
