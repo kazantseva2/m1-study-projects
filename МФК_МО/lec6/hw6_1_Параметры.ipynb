{
 "cells": [
  {
   "cell_type": "markdown",
   "metadata": {
    "id": "pGXrwlf3h3zt"
   },
   "source": [
    "# 5.1. Параметры\n",
    "\n",
    "Ваша задача - обучить классификатор на стандартном датасете Ирисов Фишера решать задачу предсказания сорта цветка по описанию 4 его параметров.\n",
    "\n",
    "Ваша задача - дополнить приведённый ниже код таким образом, чтобы конфигурация обучения была следующей:\n",
    "\n",
    "1) В тренировочную выборку должно быть включено 60% всех объектов, выбранных из датасета случайным образом (поскольку датасет очень простой для обучения модели, 60% тренировочных объектов более, чем достаточно)\n",
    "\n",
    "2) Максимальная глубина построенного дерева не должна превышать 3\n",
    "\n",
    "3) В качестве критерия ветвления используйте критерий Джини\n",
    "\n",
    "4) Random state и random seed установите равными 42\n",
    "\n",
    "В качестве ответа к задаче укажите оценку качества классификации на тестовой выборке при помощи accuracy_score. Ответ округлите **вниз** до сотых. Разделитель дробной и целой части в ответе - **точка**."
   ]
  },
  {
   "cell_type": "markdown",
   "metadata": {
    "id": "96rTPks0iIOh"
   },
   "source": [
    "Код для заполнения:"
   ]
  },
  {
   "cell_type": "code",
   "execution_count": 34,
   "metadata": {
    "id": "uLD-_TQXiG75"
   },
   "outputs": [
    {
     "name": "stdout",
     "output_type": "stream",
     "text": [
      "0.98\n"
     ]
    }
   ],
   "source": [
    "import pandas as pd\n",
    "import numpy as np\n",
    "\n",
    "np.random.seed(42)\n",
    "\n",
    "# Импортируйте необходимые классы и функции из соответствующих модулей sklearn\n",
    "from sklearn.model_selection import train_test_split\n",
    "from sklearn.tree import DecisionTreeClassifier\n",
    "from sklearn.metrics import accuracy_score\n",
    "from math import floor\n",
    "\n",
    "from sklearn.datasets import load_iris\n",
    "\n",
    "X, y = load_iris(return_X_y=True)\n",
    "\n",
    "X_train, x_test, y_train, y_test = train_test_split(X, y, test_size=0.4, random_state=42)\n",
    "clf = DecisionTreeClassifier(max_depth=3, criterion='gini')\n",
    "\n",
    "clf.fit(X_train, y_train)\n",
    "preds = clf.predict(x_test)\n",
    "\n",
    "acc = accuracy_score(y_test, preds)\n",
    "\n",
    "acc = floor(acc*100)/100\n",
    "\n",
    "print(acc)"
   ]
  },
  {
   "cell_type": "markdown",
   "metadata": {
    "id": "PwhN3ve_-S0v"
   },
   "source": [
    "## Примечания\n",
    "\n",
    "1. Для округления можно использовать одну из операций: round(), floor() (подумайте, какая операция здесь подходит лучше). Также можно использовать форматированный вывод и f-строки.\n",
    "\n",
    "2. Обратите внимание на соотношение тренировочной и тестовой выборки (оно указано в условии задачи)."
   ]
  },
  {
   "cell_type": "markdown",
   "metadata": {},
   "source": [
    "#  Лучшая комбинация\n",
    "Ваша задача - обучить стандартный регрессор на основе решающего дерева решать задачу предсказания стоимости бриллианта по набору его признаков, к которым относятся: * Число карат * Цвет * Чистота * Геометрические размеры и т.п.\n",
    "\n",
    "Датасет можно загрузить по ссылке.\n",
    "\n",
    "Датасет необходимо предобработать следующим образом:\n",
    "\n",
    "1. Удалить ненужную колонку, дублирующую индекс;\n",
    "2. Преобразовать все данные к числовому типу (если это необходимо)*;\n",
    "3. Воспользуйтесь One-hot encoder для преобразования категориальных признаков. Категориальными признаками в нашем случае служат признаки \"cut\", \"color\" и \"clarity\";\n",
    "4. Перемешайте выборку при помощи функции sklearn.utils.shuffle с random_state=42.\n",
    "\n",
    "Выберите лучшую комбинацию гиперпараметров из предложенных:\n",
    "\n",
    "1. Критерий ветвления: squared_error, глубина дерева: 12\n",
    "2. Критерий ветвления: friedman_mse, глубина дерева: 16\n",
    "3. Критерий ветвления: poisson, глубина дерева: 22\n",
    "4. Критерий ветвления: squared_error, глубина дерева: 45\n",
    "5. Критерий ветвления: friedman_mse, глубина дерева: 95\n",
    "6. Критерий ветвления: poisson, глубина дерева: 33\n",
    "\n",
    "Лучшим будет тот критерий, который покажет наилучшее среднее качество с точки зрения метрики r^2\n",
    "  при кросс-валидации с cv=10. Random state и random seed установите равными 42."
   ]
  },
  {
   "cell_type": "code",
   "execution_count": 35,
   "metadata": {},
   "outputs": [
    {
     "name": "stdout",
     "output_type": "stream",
     "text": [
      "squared_error, 12: 0.974376370315037\n",
      "friedman_mse, 16: 0.9698124638578074\n",
      "poisson, 22: 0.9649735951477197\n",
      "squared_error, 45: 0.9657305223646757\n",
      "friedman_mse, 95: 0.9657260061669289\n",
      "poisson, 33: 0.9644969400198521\n"
     ]
    }
   ],
   "source": [
    "import pandas as pd\n",
    "from sklearn.preprocessing import LabelEncoder\n",
    "from sklearn.utils import shuffle\n",
    "from sklearn.tree import DecisionTreeRegressor\n",
    "from sklearn.model_selection import cross_val_score\n",
    "\n",
    "# Загрузка данных\n",
    "data = pd.read_csv('TRAIN.csv')\n",
    "\n",
    "# Предобработка данных\n",
    "data = data.drop(columns=['Unnamed: 0'])\n",
    "\n",
    "for column in ['cut', 'color', 'clarity']:\n",
    "    le = LabelEncoder()\n",
    "    data[column] = le.fit_transform(data[column])\n",
    "\n",
    "# Перемешиваем\n",
    "data = shuffle(data, random_state=42)\n",
    "\n",
    "# Делим на X, y\n",
    "y = data['price']\n",
    "X = data.drop(columns=['price'])\n",
    "# print(X, y, data, sep='\\n')\n",
    "\n",
    "# Подбираем параметры\n",
    "regressor = DecisionTreeRegressor()\n",
    "\n",
    "params = [\n",
    "    ('squared_error', 12),\n",
    "    ('friedman_mse', 16),\n",
    "    ('poisson', 22),\n",
    "    ('squared_error', 45),\n",
    "    ('friedman_mse', 95),\n",
    "    ('poisson', 33),\n",
    "]\n",
    "\n",
    "for criterion, max_depth in params:\n",
    "    regressor = DecisionTreeRegressor(criterion=criterion, max_depth=max_depth, random_state=42)\n",
    "    score = cross_val_score(regressor, X, y, cv=10, scoring='r2')\n",
    "    print(f\"{criterion}, {max_depth}: {score.mean()}\")\n",
    "\n",
    "\n"
   ]
  },
  {
   "cell_type": "code",
   "execution_count": null,
   "metadata": {},
   "outputs": [],
   "source": [
    "\n"
   ]
  },
  {
   "cell_type": "markdown",
   "metadata": {},
   "source": [
    "## Примечания\n",
    "*Общий алгоритм для этого следующий: вы можете выделить множество всех уникальных значений для каждой колонки, а затем воспользоваться функцией .replace() объекта pandas.DataFrame для замены строчных значений на числовые.\n",
    "\n",
    "Более правильный способ сделать это - воспользоваться классом 'sklearn.preprocessing.LabelEncoder', подробности в документации. Мы рекомендуем воспользоваться именно LabelEncoder."
   ]
  }
 ],
 "metadata": {
  "colab": {
   "provenance": []
  },
  "kernelspec": {
   "display_name": "data_analysis",
   "language": "python",
   "name": "python3"
  },
  "language_info": {
   "codemirror_mode": {
    "name": "ipython",
    "version": 3
   },
   "file_extension": ".py",
   "mimetype": "text/x-python",
   "name": "python",
   "nbconvert_exporter": "python",
   "pygments_lexer": "ipython3",
   "version": "3.12.6"
  }
 },
 "nbformat": 4,
 "nbformat_minor": 0
}
