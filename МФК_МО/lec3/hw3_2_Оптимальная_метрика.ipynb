{
  "cells": [
    {
      "cell_type": "markdown",
      "metadata": {
        "id": "Vul_oMFvIqYL"
      },
      "source": [
        "# Оптимальная метрика\n",
        "\n",
        "В этом задании Вам предлагается подобрать оптимальную метрику и оптимальное значение гиперпараметра K из диапазона [1,50] для решения задачи классификации на примере датасета Ирисов Фишера. Этот датасет можно загрузить из модуля sklearn.datasets.\n",
        "\n",
        "Качества оценивается при помощи метрики accuracy при помощи методики кросс-валидации. Об этой методике можно подробнее прочитать в [документации sklearn](https://scikit-learn.org/stable/modules/generated/sklearn.model_selection.cross_val_score.html).\n",
        "\n",
        "Мы предлагаем Вам заполнить недостающие команды в следующем скелете кода и разобраться, какую метрику оптимально применять для решения данной задачи. В ответе на задание необходимо указать эту метрику.\n",
        "\n",
        "Попробуйте 3 варианта: манхэттенское расстояние, евклидово расстояние и косинусное расстояние. Полный список возможных метрик можно посмотреть по [ссылке](https://scikit-learn.org/stable/modules/generated/sklearn.metrics.pairwise.distance_metrics.html#sklearn.metrics.pairwise.distance_metrics). Меняйте этот параметр, изменяя значение аргумента `metric` при создании объекта класса `KNeighborsClassifier`. Найдите пару \"метрика\"-\"K\", для которой получается наилучшее качество и в качестве ответа укажите **найденную метрику**\n",
        "\n",
        "**Замечание**: параметр *n_splits* - это количество разбиений `cv` в кросс-валидации. В качестве итоговой метрики берётся усреднение полученных значений метрик по всем разбиениям."
      ]
    },
    {
      "cell_type": "code",
      "execution_count": 7,
      "metadata": {
        "id": "G9zTXC4TIsoG"
      },
      "outputs": [
        {
          "name": "stdout",
          "output_type": "stream",
          "text": [
            "cosine:\n",
            "max_score = 0.98, k = 11\n",
            "l1:\n",
            "max_score = 0.9666666666666667, k = 2\n",
            "l2:\n",
            "max_score = 0.9866666666666667, k = 3\n"
          ]
        }
      ],
      "source": [
        "import sklearn\n",
        "import numpy as np\n",
        "from sklearn.metrics import accuracy_score\n",
        "from sklearn.model_selection import cross_val_score\n",
        "from sklearn.neighbors import KNeighborsClassifier\n",
        "\n",
        "random_seed = 4238\n",
        "\n",
        "np.random.seed(random_seed)\n",
        "n_splits = 3\n",
        "\n",
        "from sklearn.datasets import load_iris\n",
        "\n",
        "X, y = load_iris(return_X_y=True)\n",
        "\n",
        "\"\"\"\n",
        "  Здесь Вам предлагается написать тело цикла для подбора оптимального K\n",
        "  Результаты оценки алгоритма при каждом отдельно взятом K рекомендуем записывать в список cv_scores\n",
        "\"\"\"\n",
        "scores = []\n",
        "for k in range(1, 51):\n",
        "    clf = KNeighborsClassifier(n_neighbors=k,metric='cosine')\n",
        "    score = cross_val_score(clf, X,  y, cv=n_splits)\n",
        "    scores.append(np.mean(score))\n",
        "\n",
        "print(\"cosine:\")\n",
        "mx = max(scores)\n",
        "print(f\"max_score = {mx}, k = {scores.index(mx)}\")\n",
        "\n",
        "\n",
        "\n",
        "\n",
        "scores = []\n",
        "for k in range(1, 51):\n",
        "    clf = KNeighborsClassifier(n_neighbors=k,metric='l1')\n",
        "    score = cross_val_score(clf, X,  y, cv=n_splits)\n",
        "    scores.append(np.mean(score))\n",
        "\n",
        "print(\"l1:\")\n",
        "mx = max(scores)\n",
        "print(f\"max_score = {mx}, k = {scores.index(mx)}\")\n",
        "\n",
        "\n",
        "\n",
        "\n",
        "scores = []\n",
        "for k in range(1, 51):\n",
        "    clf = KNeighborsClassifier(n_neighbors=k,metric='l2')\n",
        "    score = cross_val_score(clf, X,  y, cv=n_splits)\n",
        "    scores.append(np.mean(score))\n",
        "\n",
        "print(\"l2:\")\n",
        "mx = max(scores)\n",
        "print(f\"max_score = {mx}, k = {scores.index(mx)}\")"
      ]
    }
  ],
  "metadata": {
    "colab": {
      "provenance": []
    },
    "kernelspec": {
      "display_name": "data_analysis",
      "language": "python",
      "name": "python3"
    },
    "language_info": {
      "codemirror_mode": {
        "name": "ipython",
        "version": 3
      },
      "file_extension": ".py",
      "mimetype": "text/x-python",
      "name": "python",
      "nbconvert_exporter": "python",
      "pygments_lexer": "ipython3",
      "version": "3.12.6"
    }
  },
  "nbformat": 4,
  "nbformat_minor": 0
}
