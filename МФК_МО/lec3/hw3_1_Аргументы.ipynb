{
  "cells": [
    {
      "cell_type": "markdown",
      "metadata": {
        "id": "dT4P8Uu_ARp3"
      },
      "source": [
        "# Задача 2.1. Аргументы\n",
        "\n",
        "В данном задании Вам предлагается дописать код решения задачи бинарной классификации на основе классификатора KNN. Шаблон кода приведён Вам в качестве входных данных, Вам необходимо дополнить его так, чтобы алгоритм K ближайших соседей был настроен в следующей конфигурации:\n",
        "\n",
        "- В качестве K должно быть выбрано значение 8\n",
        "- В качестве метрики должно быть использовано манхэттенское расстояние\n",
        "\n",
        "Для обучения модели разобьём выборку на тренировочную и тестовую при помощи функции train_test_split из модуля sklearn.model_selection. Подробнее об этой функции можно прочитать в [официальной документации sklearn](https://scikit-learn.org/stable/modules/generated/sklearn.model_selection.train_test_split.html):\n",
        "\n",
        "Настройте разбиение на тестовую и тренировочную выборку таким образом, чтобы 0.3 объектов попали в тестовую выборку.\n",
        "\n",
        "Оцените качество классификации на тестовой выборке при помощи [accuracy_score](https://scikit-learn.org/stable/modules/generated/sklearn.metrics.accuracy_score.html) (функция подсчета доли правильных ответов из sklearn.metrics)\n",
        "\n",
        "В качестве ответа укажите полученное качество на тестовой выборке, округлив ответ **вниз** до сотых."
      ]
    },
    {
      "cell_type": "code",
      "execution_count": 1,
      "metadata": {
        "id": "gA9LjU8XASlJ"
      },
      "outputs": [
        {
          "name": "stdout",
          "output_type": "stream",
          "text": [
            "0.9766081871345029\n"
          ]
        }
      ],
      "source": [
        "import sklearn\n",
        "import numpy as np\n",
        "from sklearn.neighbors import KNeighborsClassifier\n",
        "from sklearn.datasets import load_breast_cancer\n",
        "from sklearn.metrics import accuracy_score\n",
        "from sklearn.model_selection import train_test_split\n",
        "\n",
        "random_seed = 4238\n",
        "np.random.seed(random_seed)\n",
        "\n",
        "X, y = load_breast_cancer(return_X_y=True)\n",
        "X_train, x_test, y_train, y_test = train_test_split(\n",
        "    X, y, test_size=0.3, shuffle=True, random_state=42\n",
        ")\n",
        "\n",
        "clf = KNeighborsClassifier(n_neighbors=8, p=1)\n",
        "clf.fit(X_train, y_train)\n",
        "\n",
        "predictions = clf.predict(x_test)\n",
        "acc = accuracy_score(y_test, predictions)\n",
        "\n",
        "print(acc)"
      ]
    },
    {
      "cell_type": "markdown",
      "metadata": {
        "id": "eU5j2kQwAx9m"
      },
      "source": [
        "## Примечания\n",
        "\n",
        "1. **Не меняйте значение random_state и random_seed!** Это может привести к неправильным ответам.\n",
        "\n",
        "2. Ответ должен быть записан в виде десятичной дроби через **точку** с двумя значащими цифрами. *Например: 0.11*"
      ]
    },
    {
      "cell_type": "code",
      "execution_count": null,
      "metadata": {
        "id": "ZrIqgYUaAzGC"
      },
      "outputs": [],
      "source": []
    }
  ],
  "metadata": {
    "colab": {
      "provenance": []
    },
    "kernelspec": {
      "display_name": "data_analysis",
      "language": "python",
      "name": "python3"
    },
    "language_info": {
      "codemirror_mode": {
        "name": "ipython",
        "version": 3
      },
      "file_extension": ".py",
      "mimetype": "text/x-python",
      "name": "python",
      "nbconvert_exporter": "python",
      "pygments_lexer": "ipython3",
      "version": "3.12.6"
    }
  },
  "nbformat": 4,
  "nbformat_minor": 0
}
