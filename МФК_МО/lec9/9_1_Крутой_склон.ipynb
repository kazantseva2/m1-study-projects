{
 "cells": [
  {
   "cell_type": "code",
   "execution_count": 20,
   "metadata": {},
   "outputs": [
    {
     "name": "stdout",
     "output_type": "stream",
     "text": [
      "[[ 1.09706398 -2.07333501  1.26993369 ... -1.56846633 -2.30360062\n",
      "  -2.75062224]\n",
      " [ 1.82982061 -0.35363241  1.68595471 ...  0.82696245 -1.53512599\n",
      "   0.24388967]\n",
      " [ 1.57988811  0.45618695  1.56650313 ... -0.94221044 -1.34747521\n",
      "  -1.152255  ]\n",
      " ...\n",
      " [ 0.70228425  2.0455738   0.67267578 ...  0.84048388 -0.57900058\n",
      "   1.10454895]\n",
      " [ 1.83834103  2.33645719  1.98252415 ... -1.52576706 -2.30360062\n",
      "  -1.91908301]\n",
      " [-1.80840125  1.22179204 -1.81438851 ...  3.11208479  1.43273495\n",
      "   0.04813821]]\n",
      "<class 'numpy.ndarray'>\n"
     ]
    }
   ],
   "source": [
    "import numpy as np\n",
    "\n",
    "data = np.load('PCA.npy')\n",
    "print(data)\n",
    "print(type(data))\n",
    "\n"
   ]
  },
  {
   "cell_type": "code",
   "execution_count": 21,
   "metadata": {},
   "outputs": [
    {
     "name": "stdout",
     "output_type": "stream",
     "text": [
      "[1.05076377e+02 6.76963146e+01 4.84240217e+01 4.02450929e+01\n",
      " 3.60243696e+01 3.37151049e+01 2.21314059e+01 1.87601765e+01\n",
      " 1.68885399e+01 1.63642414e+01 1.42933768e+01 1.36601593e+01\n",
      " 1.25477506e+01 1.18476590e+01 8.10902454e+00 7.83352920e+00\n",
      " 6.75470889e+00 6.31235867e+00 5.66623472e+00 4.81871912e+00\n",
      " 4.37021922e+00 4.26374718e+00 3.97283253e+00 3.59302330e+00\n",
      " 3.10589913e+00 2.32290696e+00 2.25214205e+00 2.17659187e+00\n",
      " 1.19699544e+00 6.54447676e-01 2.74697945e-01 1.02938853e-13\n",
      " 8.80373810e-15 8.80373810e-15 8.80373810e-15 8.80373810e-15\n",
      " 8.80373810e-15 8.80373810e-15 8.80373810e-15 8.80373810e-15\n",
      " 8.80373810e-15 8.80373810e-15 5.74423365e-15]\n",
      "<class 'numpy.ndarray'>\n"
     ]
    }
   ],
   "source": [
    "U, D, V = np.linalg.svd(data)\n",
    "print(D)\n",
    "print(type(D))"
   ]
  },
  {
   "cell_type": "code",
   "execution_count": 22,
   "metadata": {},
   "outputs": [],
   "source": [
    "def E(D, m):\n",
    "    return D[m:].sum() / D.sum()"
   ]
  },
  {
   "cell_type": "code",
   "execution_count": 23,
   "metadata": {},
   "outputs": [
    {
     "name": "stdout",
     "output_type": "stream",
     "text": [
      "12\n"
     ]
    }
   ],
   "source": [
    "for m in range(D.shape[0]):\n",
    "    if E(D, m) < 0.2:\n",
    "        print(m)\n",
    "        break\n"
   ]
  }
 ],
 "metadata": {
  "kernelspec": {
   "display_name": "data_analysis",
   "language": "python",
   "name": "python3"
  },
  "language_info": {
   "codemirror_mode": {
    "name": "ipython",
    "version": 3
   },
   "file_extension": ".py",
   "mimetype": "text/x-python",
   "name": "python",
   "nbconvert_exporter": "python",
   "pygments_lexer": "ipython3",
   "version": "3.12.6"
  }
 },
 "nbformat": 4,
 "nbformat_minor": 2
}
