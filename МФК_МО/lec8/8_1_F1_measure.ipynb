{
 "cells": [
  {
   "cell_type": "markdown",
   "metadata": {
    "id": "qnxzhw-2a0ie"
   },
   "source": [
    "# 8.1. F1-measure\n",
    "\n",
    "На [лекции](https://colab.research.google.com/drive/12xpYdqi1S4y68FYHym2rZ3wzHSm8cSLm?usp=sharing) мы подробно обсудили, что доля правильных ответов - не самая лучшая метрика оценки качества классификации. Довольно часто доля правильных ответов даёт смещенную оценку качества и способна ввести в заблуждение. По этой причине мы пользуемся метриками качества, которые называются *точностью* и *полнотой*, а также их комбинацией - *F1-мерой*. Ваша задача - реализовать функции `precision`, `recall` и `f1`. На вход всех этих функий подаются два вектора: `y_true`: вектор правильных ответов и `y_pred`: вектор предсказаний.\n",
    "\n",
    "В рамках выполнения этого задания можно использовать только модуль `numpy`."
   ]
  },
  {
   "cell_type": "code",
   "execution_count": 17,
   "metadata": {
    "id": "DpNEqX0_cL9g"
   },
   "outputs": [],
   "source": [
    "import numpy as np\n",
    "def precision(y_true, y_pred):\n",
    "  \"\"\"\n",
    "    TODO: Заполните тело функции вычисления точности предсказания\n",
    "  \"\"\"\n",
    "  truePositive = np.count_nonzero(y_true + y_pred == 2)\n",
    "  allPositiveMark = np.count_nonzero(y_pred == 1)\n",
    "  return truePositive/allPositiveMark\n",
    "\n",
    "def recall(y_true, y_pred):\n",
    "  \"\"\"\n",
    "    TODO: Заполните тело функции вычисления полноты предсказания\n",
    "  \"\"\"\n",
    "  truePositive = np.count_nonzero(y_true + y_pred == 2)\n",
    "  allPositiveTrue = np.count_nonzero(y_true == 1)\n",
    "  return truePositive/allPositiveTrue\n",
    "\n",
    "def f1(y_true, y_pred):\n",
    "  \"\"\"\n",
    "    TODO: Заполните тело функции вычисления f1-меры предсказания\n",
    "  \"\"\"\n",
    "  recallValue = recall(y_true, y_pred)\n",
    "  precisionValue =  precision(y_true, y_pred)\n",
    "  return 2*recallValue*precisionValue/(recallValue+precisionValue)"
   ]
  },
  {
   "cell_type": "markdown",
   "metadata": {
    "id": "dYFHfq7iMXIu"
   },
   "source": [
    "## Примечания\n",
    "\n",
    "1. Проверить себя Вы можете, сравнив свои ответы с функциями `sklearn.metrics.precision_score`, `sklearn.metrics.recall_score` и `sklearn.metrics.f1_score`.\n",
    "\n",
    "2. В реализуемых функциях запрещается использовать вывод любой информации на экран (в частности, недопустимо использование print()).\n",
    "\n",
    "3. Для улучшения качества кода мы не рекомендуем заново реализовывать вычисление precision и recall внутри функции f1. Достаточно просто внутри функции f1 вызвать уже реализованные вами ранее функции self.precision() и self.recall().\n",
    "\n",
    "4. Мы считаем, что в качестве меток классов используется 0 или 1 (случай меток -1 и 1 можно не рассматривать, но для более корректного решения рекомендуем также учесть и эту ситуацию).\n",
    "\n",
    "5. Реализуемые функции не должны ничего выводить на экран - они должны возвращать значения соответствующих метрик."
   ]
  },
  {
   "cell_type": "code",
   "execution_count": 18,
   "metadata": {
    "id": "ISa-XPO74jdS"
   },
   "outputs": [
    {
     "name": "stdout",
     "output_type": "stream",
     "text": [
      "presion = 1, recall = 0.5\n",
      "1.0, 0.5, 0.6666666666666666\n"
     ]
    }
   ],
   "source": [
    "y_true = np.array([1, 1, 0, 0])\n",
    "y_pred = np.array([1, 0, 0, 0])\n",
    "print(\"presion = 1, recall = 0.5\")\n",
    "print(precision(y_true, y_pred), recall(y_true, y_pred), f1(y_true, y_pred), sep=', ')"
   ]
  }
 ],
 "metadata": {
  "colab": {
   "provenance": []
  },
  "kernelspec": {
   "display_name": "data_analysis",
   "language": "python",
   "name": "python3"
  },
  "language_info": {
   "codemirror_mode": {
    "name": "ipython",
    "version": 3
   },
   "file_extension": ".py",
   "mimetype": "text/x-python",
   "name": "python",
   "nbconvert_exporter": "python",
   "pygments_lexer": "ipython3",
   "version": "3.12.6"
  }
 },
 "nbformat": 4,
 "nbformat_minor": 0
}
