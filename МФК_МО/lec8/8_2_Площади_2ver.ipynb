{
 "cells": [
  {
   "cell_type": "markdown",
   "metadata": {
    "id": "3gwOwJTzuYfl"
   },
   "source": [
    "# 8.2. Площади\n",
    "\n",
    "В этой задаче Вам требуется сравнить значения метрик для 4 различных алгоритмов. Для этого отредактируйте следующий код так, чтобы он соответствовал сформулированному заданию."
   ]
  },
  {
   "cell_type": "code",
   "execution_count": 8,
   "metadata": {
    "id": "rjX6v8Y8uImZ"
   },
   "outputs": [
    {
     "name": "stdout",
     "output_type": "stream",
     "text": [
      "LogisticRegression: 0.6639162986466747 0.7980132450331127 0.7098509933774835\n",
      "KNeighborsClassifier: 0.5876288276242685 0.7504552980132451 0.6627897350993378\n",
      "SVC: 0.646433465148704 0.7973509933774834 0.7076572847682119\n",
      "0.7230546357615895\n",
      "0.7006123124448367\n"
     ]
    }
   ],
   "source": [
    "from sklearn.datasets import fetch_openml\n",
    "from sklearn.model_selection import train_test_split\n",
    "from sklearn.neighbors import KNeighborsClassifier\n",
    "from sklearn.linear_model import LogisticRegression\n",
    "from sklearn.tree import DecisionTreeClassifier\n",
    "from sklearn.svm import SVC\n",
    "from sklearn.preprocessing import StandardScaler\n",
    "from sklearn.metrics import  precision_recall_curve, auc, roc_auc_score, roc_curve\n",
    "\"\"\"\n",
    "TODO: make additional imports here\n",
    "\"\"\"\n",
    "\n",
    "data = fetch_openml(data_id=42608)\n",
    "X, y = data['data'].drop(columns='Outcome').values, data['data']['Outcome'].astype(int).values\n",
    "\n",
    "X_train, X_test, y_train, y_test = train_test_split(\n",
    "    X, y, test_size=0.3, random_state=42\n",
    ")\n",
    "\n",
    "sc = StandardScaler()\n",
    "sc.fit(X_train)\n",
    "X_train, X_test = sc.transform(X_train), sc.transform(X_test)\n",
    "\n",
    "\"\"\"\n",
    "In the following part of code specify algorithms with their own parameters by yourself\n",
    "\"\"\"\n",
    "tree = DecisionTreeClassifier().fit(X_train, y_train)\n",
    "lr = LogisticRegression().fit(X_train, y_train)\n",
    "knn = KNeighborsClassifier().fit(X_train, y_train)\n",
    "svm = SVC(probability=True).fit(X_train, y_train)\n",
    "\n",
    "def printScore(clf, X_test, y_test):\n",
    "    y_scores = clf.predict_proba(X_test)[:, 1]\n",
    "    precision, recall, _ = precision_recall_curve(y_test, y_scores)\n",
    "    auc_pr = auc(recall, precision)\n",
    "\n",
    "    fpr, tpr, _ = roc_curve(y_test,y_scores)\n",
    "    auc_roc = auc(fpr, tpr)\n",
    "\n",
    "    preds = clf.predict(X_test)\n",
    "    auc_roc_2 = roc_auc_score(y_test, preds)\n",
    "\n",
    "    print(auc_pr, auc_roc, auc_roc_2)\n",
    "\n",
    "\n",
    "print('LogisticRegression:', end=' ')\n",
    "printScore(lr, X_test, y_test)\n",
    "\n",
    "print('KNeighborsClassifier:', end=' ')\n",
    "printScore(knn, X_test, y_test)\n",
    "\n",
    "print('SVC:', end=' ')\n",
    "printScore(svm, X_test, y_test)\n",
    "\n",
    "preds = tree.predict(X_test)\n",
    "auc_roc_2 = roc_auc_score(y_test, preds)\n",
    "print(auc_roc_2)\n",
    "precision, recall, _ = precision_recall_curve(y_test, preds)\n",
    "auc_pr = auc(recall, precision)\n",
    "print(auc_pr)\n",
    "\n"
   ]
  },
  {
   "cell_type": "markdown",
   "metadata": {
    "id": "PMPsE9S9N-nv"
   },
   "source": [
    "## Примечания\n",
    "\n",
    "1. Обратите внимание, что StandardScaler может влиять на результаты работы алгоритмов. Поэтому рекомендуем его использовать.\n",
    "\n",
    "2. Когда мы разбиваем данные на train и test, мы должны понимать, что **все** алгоритмы должны обучаться **только на train**. Test при обучении **не используется**. Более того, в реальной жизни мы вообще ничего не знаем про test. Поэтому StandardScaler нужно обучать только на X_train, а к X_test делать только transform (**не** fit_transform)."
   ]
  }
 ],
 "metadata": {
  "colab": {
   "provenance": []
  },
  "kernelspec": {
   "display_name": "data_analysis",
   "language": "python",
   "name": "python3"
  },
  "language_info": {
   "codemirror_mode": {
    "name": "ipython",
    "version": 3
   },
   "file_extension": ".py",
   "mimetype": "text/x-python",
   "name": "python",
   "nbconvert_exporter": "python",
   "pygments_lexer": "ipython3",
   "version": "3.12.6"
  }
 },
 "nbformat": 4,
 "nbformat_minor": 0
}
