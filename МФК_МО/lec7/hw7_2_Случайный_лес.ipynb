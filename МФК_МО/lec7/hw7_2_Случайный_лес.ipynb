{
 "cells": [
  {
   "cell_type": "markdown",
   "metadata": {
    "id": "upU8iWtojlkk"
   },
   "source": [
    "# 7.2. Случайный лес\n",
    "\n",
    "Ваша задача - написать класс `random_forest` для решения задачи классификации на основе датасета Ирисов Фишера (`sklearn.datasets.load_iris`), принимающий на вход конструктора аргументы `n_estimators`, `max_depth`, `subspaces_dim` и `random_state`. описание этих аргументов приведено ниже. У этого класса должны быть определены методы `.fit()` и `.predict()`, а также поле `._estimators`, в котором должен храниться список алгоритмов, используемых в ансамбле.\n",
    "\n",
    "- n_estimators - число деревьев в ансамбле\n",
    "- max_depth - максимальная глубина каждого дерева в ансамбле\n",
    "- subspaces_dim - размерность случайного подпространства для каждого дерева\n",
    "\n",
    "Для создания обучающей подвыборки для каждого из базовых классификаторов, Вы можете воспользоваться классом `sample`, который Вы реализовали в прошлом задании. В случае его использования, не забудьте включить его описание в файл с Вашим решением текущего задания. Мы также предлагаем вам организовать выбор подпространств для каждого дерева посредством заполнения списка `subspace_idx`, в котором будут логироваться выбранные для каждого базового классификатора подпространства.\n",
    "\n",
    "Замечание: в рамках выполнения данного задания запрещено использовать класс `sklearn.ensemble.RandomForestClassifier`. Такой код не пройдёт проверку.\n",
    "\n",
    "Подберите также гиперпараметры, на которых ваш алгоритм получает наилучшее качество (с точки зрения метрики accuracy, доли правильных ответов) на тестовой выборке с параметром `test_size`=0.3, задайте их в виде глобальных переменных N_ESTIMATORS, MAX_DEPTH, SUBSPACE_DIM.\n",
    "\n",
    "Шаблон класса:"
   ]
  },
  {
   "cell_type": "code",
   "execution_count": 160,
   "metadata": {},
   "outputs": [],
   "source": [
    "import numpy as np\n",
    "\n",
    "class sample(object):\n",
    "  def __init__(self, X, n_subspace):\n",
    "    self.idx_subspace = self.random_subspace(X, n_subspace)\n",
    "\n",
    "  def __call__(self, X, y):\n",
    "    idx_obj = self.bootstrap_sample(X)\n",
    "    X_sampled, y_sampled = self.get_subsample(X, y, self.idx_subspace, idx_obj)\n",
    "    return X_sampled, y_sampled\n",
    "\n",
    "  @staticmethod\n",
    "  def bootstrap_sample(X):\n",
    "    \"\"\"\n",
    "    Заполните тело этой функции таким образом, чтобы она возвращала массив индексов выбранных при помощи бэггинга индексов.\n",
    "    Пользуйтесь только инструментами, реализованными в numpy.random, выставляя везде, где это необходимо, random_state=42\n",
    "    \"\"\"\n",
    "    # np.random.seed(42)\n",
    "    n_samples = len(X)\n",
    "    choice = np.random.choice(np.arange(n_samples), size=n_samples, replace=True)\n",
    "    return np.unique(choice)\n",
    "\n",
    "  \n",
    "  @staticmethod\n",
    "  def random_subspace(X, n_subspace):\n",
    "    \"\"\"\n",
    "    Заполните тело этой функции таким образом, чтобы она возвращала массив индексов выбранных при помощи метода случайных подпространств признаков\n",
    "    Количество этих признаков передается при помощи аргумента n_subspace\n",
    "    Пользуйтесь только инструментами, реализованными в numpy.random, выставляя везде, где это необходимо, random_state=42\n",
    "    \"\"\"\n",
    "    # np.random.seed(42)\n",
    "    n_features = X.shape[1]\n",
    "    return np.random.choice(np.arange(n_features), size=n_subspace, replace=False)\n",
    "\n",
    "\n",
    "  @staticmethod\n",
    "  def get_subsample(X, y, idx_subspace, idx_obj):\n",
    "    \"\"\"\n",
    "    Заполните тело этой функции таким образом, чтобы она возвращала подвыборку x_sampled, y_sampled\n",
    "    по значениям индексов признаков(idx_subspace) и объектов(idx_obj) , которые должны в неё попасть\n",
    "    \"\"\"\n",
    "\n",
    "    return X[np.ix_(idx_obj, idx_subspace)], y[idx_obj]\n"
   ]
  },
  {
   "cell_type": "code",
   "execution_count": null,
   "metadata": {
    "id": "GLfTj8FHjvY2"
   },
   "outputs": [],
   "source": [
    "import numpy as np\n",
    "from sklearn.tree import DecisionTreeClassifier\n",
    "np.random.seed(42)\n",
    "\n",
    "N_ESTIMATORS = 10\n",
    "MAX_DEPTH = 5\n",
    "SUBSPACE_DIM = 2\n",
    "\n",
    "class random_forest(object):\n",
    "  def __init__(self, n_estimators: int, max_depth: int, subspaces_dim: int, random_state: int):\n",
    "    self.n_estimators = n_estimators\n",
    "    self.max_depth = max_depth\n",
    "    self.subspaces_dim = subspaces_dim\n",
    "    self.random_state = random_state\n",
    "    self._estimators = []\n",
    "    self.subspaces_idx = []\n",
    "    \"\"\"\n",
    "      Задайте все необходимые поля в рамках конструктора класса\n",
    "    \"\"\"\n",
    "\n",
    "  def fit(self, X, y):\n",
    "    for i in range(self.n_estimators):\n",
    "      \"\"\"\n",
    "        Напишите функцию обучения каждого из деревьев алгоритма на собственной подвыборке\n",
    "      \"\"\"\n",
    "      s = sample(X, self.subspaces_dim)\n",
    "      X_sampled, y_sampled = s(X, y)\n",
    "      tree = DecisionTreeClassifier(max_depth=self.max_depth, random_state=self.random_state)\n",
    "      tree.fit(X_sampled, y_sampled)\n",
    "      self._estimators.append(tree)\n",
    "      self.subspaces_idx.append(s.idx_subspace)\n",
    "\n",
    "  def predict(self, X):\n",
    "    \"\"\"\n",
    "      Напишите функцию получения среднего предсказания алгоритма\n",
    "    \"\"\"\n",
    "    pred = []\n",
    "    for tree, idx_subspace in zip(self._estimators, self.subspaces_idx):\n",
    "      pred.append(tree.predict(X[np.ix_(range(len(X)), idx_subspace)]))\n",
    "\n",
    "    \n",
    "    pred = np.array(pred).T\n",
    "\n",
    "    \n",
    "    return np.array([np.bincount(row).argmax() for row in pred])\n",
    "      \n"
   ]
  },
  {
   "cell_type": "markdown",
   "metadata": {
    "id": "cF8c0jlpLkaT"
   },
   "source": [
    "## Примечания\n",
    "\n",
    "1. В данной задаче запрещено использовать библиотеку pandas.\n",
    "\n",
    "2. В реализуемых методах запрещается использовать вывод любой информации на экран (в частности, недопустимо использование print())."
   ]
  },
  {
   "cell_type": "markdown",
   "metadata": {
    "id": "KkqH7nvl1Qcg"
   },
   "source": [
    "# Пример входных и выходных данных"
   ]
  },
  {
   "cell_type": "code",
   "execution_count": 162,
   "metadata": {},
   "outputs": [
    {
     "name": "stdout",
     "output_type": "stream",
     "text": [
      "[[ 0.47819456 -1.57891216 -0.1018819   1.11113501  0.20826281 -1.11091227\n",
      "   0.07844205]\n",
      " [ 0.11850997  1.91073022  0.95574903  1.35798262  0.56177995  0.26012021\n",
      "   0.42404407]\n",
      " [-0.52304666  0.75051167 -1.037804   -0.10105312  0.08559063  0.5102743\n",
      "  -1.79068927]\n",
      " [-0.09078024  1.62097709  0.93284371  1.0386902  -0.68354252 -1.27138661\n",
      "   0.15060651]\n",
      " [ 0.11676701 -0.71769062 -0.80119565  0.73448495  1.80728052  0.45770337\n",
      "   0.20689119]]\n",
      "(5, 7)\n",
      "(5,)\n"
     ]
    }
   ],
   "source": [
    "X = np.array([[ 0.47819456, -1.57891216, -0.1018819 ,  1.11113501,  0.20826281,\n",
    "        -1.11091227,  0.07844205],\n",
    "       [ 0.11850997,  1.91073022,  0.95574903,  1.35798262,  0.56177995,\n",
    "         0.26012021,  0.42404407],\n",
    "       [-0.52304666,  0.75051167, -1.037804  , -0.10105312,  0.08559063,\n",
    "         0.5102743 , -1.79068927],\n",
    "       [-0.09078024,  1.62097709,  0.93284371,  1.0386902 , -0.68354252,\n",
    "        -1.27138661,  0.15060651],\n",
    "       [ 0.11676701, -0.71769062, -0.80119565,  0.73448495,  1.80728052,\n",
    "         0.45770337,  0.20689119]])\n",
    "print(X)\n",
    "print(X.shape)\n",
    "y = np.array([ 1, 0, 1, 1, 0])\n",
    "print(y.shape)"
   ]
  },
  {
   "cell_type": "code",
   "execution_count": 163,
   "metadata": {
    "colab": {
     "base_uri": "https://localhost:8080/"
    },
    "id": "5ATBmJWL2dIO",
    "outputId": "63f36cec-c131-4b65-f5a8-3293c293ec21"
   },
   "outputs": [
    {
     "data": {
      "text/plain": [
       "array([[ 0.47819456, -1.57891216, -0.1018819 ,  1.11113501,  0.20826281,\n",
       "        -1.11091227,  0.07844205],\n",
       "       [ 0.11850997,  1.91073022,  0.95574903,  1.35798262,  0.56177995,\n",
       "         0.26012021,  0.42404407],\n",
       "       [-0.52304666,  0.75051167, -1.037804  , -0.10105312,  0.08559063,\n",
       "         0.5102743 , -1.79068927],\n",
       "       [-0.09078024,  1.62097709,  0.93284371,  1.0386902 , -0.68354252,\n",
       "        -1.27138661,  0.15060651],\n",
       "       [ 0.11676701, -0.71769062, -0.80119565,  0.73448495,  1.80728052,\n",
       "         0.45770337,  0.20689119]])"
      ]
     },
     "execution_count": 163,
     "metadata": {},
     "output_type": "execute_result"
    }
   ],
   "source": [
    "X"
   ]
  },
  {
   "cell_type": "code",
   "execution_count": 164,
   "metadata": {
    "colab": {
     "base_uri": "https://localhost:8080/"
    },
    "id": "nGicDQ8412hz",
    "outputId": "34820041-74ce-487a-8f93-1528bc4885b8"
   },
   "outputs": [
    {
     "data": {
      "text/plain": [
       "(5, 7)"
      ]
     },
     "execution_count": 164,
     "metadata": {},
     "output_type": "execute_result"
    }
   ],
   "source": [
    "X.shape"
   ]
  },
  {
   "cell_type": "code",
   "execution_count": 165,
   "metadata": {
    "colab": {
     "base_uri": "https://localhost:8080/"
    },
    "id": "LFNkZ3z3109w",
    "outputId": "aeb0895a-3e63-4097-a9f8-f69a2c90a157"
   },
   "outputs": [
    {
     "data": {
      "text/plain": [
       "(5,)"
      ]
     },
     "execution_count": 165,
     "metadata": {},
     "output_type": "execute_result"
    }
   ],
   "source": [
    "y.shape"
   ]
  },
  {
   "cell_type": "code",
   "execution_count": 166,
   "metadata": {
    "id": "wzEyKww214n1"
   },
   "outputs": [],
   "source": [
    "rf = random_forest(25, 15, 2, 42)\n",
    "rf.fit(X, y)"
   ]
  },
  {
   "cell_type": "code",
   "execution_count": 167,
   "metadata": {
    "id": "Y_inb7-N2A4k"
   },
   "outputs": [],
   "source": [
    "preds = rf.predict(X)"
   ]
  },
  {
   "cell_type": "code",
   "execution_count": 168,
   "metadata": {
    "colab": {
     "base_uri": "https://localhost:8080/"
    },
    "id": "VQydx8t92QKR",
    "outputId": "b80081fa-8ca3-49da-cc6a-7a9cbceb8958"
   },
   "outputs": [
    {
     "data": {
      "text/plain": [
       "array([1, 0, 1, 1, 0])"
      ]
     },
     "execution_count": 168,
     "metadata": {},
     "output_type": "execute_result"
    }
   ],
   "source": [
    "preds"
   ]
  },
  {
   "cell_type": "code",
   "execution_count": 169,
   "metadata": {},
   "outputs": [],
   "source": [
    "from sklearn.metrics import accuracy_score\n",
    "from sklearn.datasets import load_iris\n",
    "from sklearn.model_selection import train_test_split\n",
    "import matplotlib.pyplot as plt\n",
    "\n",
    "iris = load_iris()\n",
    "X, y = iris.data, iris.target\n",
    "X_train, X_test, y_train, y_test = train_test_split(X, y, test_size=0.3, random_state=42)\n"
   ]
  },
  {
   "cell_type": "code",
   "execution_count": 170,
   "metadata": {},
   "outputs": [
    {
     "name": "stdout",
     "output_type": "stream",
     "text": [
      "1.0\n"
     ]
    }
   ],
   "source": [
    "clf = random_forest(10, 5, 2, 42)\n",
    "clf.fit(X_train, y_train)\n",
    "pred = clf.predict(X_test)\n",
    "score = accuracy_score(y_test, pred)\n",
    "print(score)"
   ]
  },
  {
   "cell_type": "code",
   "execution_count": 171,
   "metadata": {},
   "outputs": [
    {
     "data": {
      "text/plain": [
       "<matplotlib.legend.Legend at 0x700dabaddeb0>"
      ]
     },
     "execution_count": 171,
     "metadata": {},
     "output_type": "execute_result"
    },
    {
     "data": {
      "image/png": "[encoded data removed]",
      "text/plain": [
       "<Figure size 2000x1200 with 1 Axes>"
      ]
     },
     "metadata": {},
     "output_type": "display_data"
    }
   ],
   "source": [
    "scores = []\n",
    "for i in range(40):\n",
    "    clf = random_forest(25, 15, 2, 42)\n",
    "    clf.fit(X_train, y_train)\n",
    "    pred = clf.predict(X_test)\n",
    "    scores.append(accuracy_score(y_test, pred))\n",
    "\n",
    "plt.figure(figsize=(20, 12))\n",
    "plt.title(\"Score\")\n",
    "\n",
    "plt.plot(scores, label=\"test\")\n",
    "\n",
    "plt.legend()\n",
    "\n"
   ]
  }
 ],
 "metadata": {
  "colab": {
   "provenance": []
  },
  "kernelspec": {
   "display_name": "data_analysis",
   "language": "python",
   "name": "python3"
  },
  "language_info": {
   "codemirror_mode": {
    "name": "ipython",
    "version": 3
   },
   "file_extension": ".py",
   "mimetype": "text/x-python",
   "name": "python",
   "nbconvert_exporter": "python",
   "pygments_lexer": "ipython3",
   "version": "3.12.6"
  }
 },
 "nbformat": 4,
 "nbformat_minor": 0
}
