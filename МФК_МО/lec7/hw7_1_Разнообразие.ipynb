{
 "cells": [
  {
   "cell_type": "markdown",
   "metadata": {
    "id": "i3pPZpuKiGnI"
   },
   "source": [
    "# 6.1. Разнообразие\n",
    "\n",
    "Как известно, для формирования случайного леса необходимо разнообразие каждого из решающих деревьев в его составе. Добиться такого разнообразия можно как при помощи варьирования параметров деревьев, так и при помощи варьирования обучающих выборок. Это обычно делается при помощи комбинирования методов случайных подпространств и беггинга. Метод случайных подпространств состоит в случайном выборе подмножества признаков. Бэггинг - это техника отбора подмножества объектов из исходной выборки, которая состоит в последовательном случайном выборе объектов выборки [**с возвращением**](https://ru.wikipedia.org/wiki/Размещение#Размещение_с_повторениями).\n",
    "\n",
    "Для ясности приведём следующий пример:\n",
    "\n",
    "Пусть  наша выборка - это черный мешок с пронумерованными шарами. Каждый шар символизирует некоторый объект нашей выборки с соответствующим номером. Процедура бэггинга предлагает нам последовательно хорошо перемешав шары в мешке вытаскивать их один за другим не глядя, записывать их номера на лист бумаги, а затем возвращать их назад в мешок, повторяя эту операцию столько раз, сколько объектов содержится в нашей выборке. Затем мы вынем из мешка все те шары, номер которых хотя бы раз возник в нашем списке. Понятно, что скорее всего среди этих номеров будут повторяющиеся, то есть какие-то шары мы вытянем несколько раз, а какие-то - вообще ни разу. Именно поэтому наша подвыборка и получится случайной. Статистически обоснована оценка того, какой процент шаров из исходной выборки в среднем попадёт в итоговую подвыборку. Эта оценка приблизительно равна $62\\%$.\n",
    "\n",
    "Ваша задача - написать реализацию трёх функций и объединить их в класс `sample`, возвращающий по выборке некоторую случайную подвыборку, пригодную для обучения  одного из деревьев в ансамбле случайного леса.\n",
    "\n",
    "**Замечание:** обратите внимание, что объекты в итоговой подвыборке не должны дублироваться. Мы предлагаем Вам ознакомиться с функциями [np.random.choice](https://numpy.org/doc/stable/reference/random/generated/numpy.random.choice.html) и [np.unique](https://numpy.org/doc/stable/reference/generated/numpy.unique.html), они могут оказаться полезны при выполнении этого задания.\n",
    "\n",
    "Подробнее об этом методе можно прочитать в нашей [лекции](https://colab.research.google.com/drive/1LrqEyfmOKJQdvgxZ56qPcJ_YjJFnP_Ka#scrollTo=kYjii_stqfJo)\n"
   ]
  },
  {
   "cell_type": "code",
   "execution_count": null,
   "metadata": {
    "id": "juW_Uoo_ic0z"
   },
   "outputs": [],
   "source": [
    "import numpy as np\n",
    "\n",
    "class sample(object):\n",
    "  def __init__(self, X, n_subspace):\n",
    "    self.idx_subspace = self.random_subspace(X, n_subspace)\n",
    "\n",
    "  def __call__(self, X, y):\n",
    "    idx_obj = self.bootstrap_sample(X)\n",
    "    X_sampled, y_sampled = self.get_subsample(X, y, self.idx_subspace, idx_obj)\n",
    "    return X_sampled, y_sampled\n",
    "\n",
    "  @staticmethod\n",
    "  def bootstrap_sample(X): # выдает индексы объектов: с возвратом вытаскивает len(X) объектов, отбрасывая повторяющиеся\n",
    "    \"\"\"\n",
    "    Заполните тело этой функции таким образом, чтобы она возвращала массив индексов выбранных при помощи бэггинга индексов.\n",
    "    Пользуйтесь только инструментами, реализованными в numpy.random, выставляя везде, где это необходимо, random_state=42\n",
    "    \"\"\"\n",
    "    # np.random.seed(42)\n",
    "    n_samples = len(X)\n",
    "    choice = np.random.choice(np.arange(n_samples), size=n_samples, replace=True)\n",
    "    return np.unique(choice)\n",
    "\n",
    "  \n",
    "  @staticmethod\n",
    "  def random_subspace(X, n_subspace): # выдает индексы признаков: тупо выбирает n_subspace случайных признаков(без повторов)\n",
    "    \"\"\"\n",
    "    Заполните тело этой функции таким образом, чтобы она возвращала массив индексов выбранных при помощи метода случайных подпространств признаков\n",
    "    Количество этих признаков передается при помощи аргумента n_subspace\n",
    "    Пользуйтесь только инструментами, реализованными в numpy.random, выставляя везде, где это необходимо, random_state=42\n",
    "    \"\"\"\n",
    "    # np.random.seed(42)\n",
    "    n_features = X.shape[1]\n",
    "    return np.random.choice(np.arange(n_features), size=n_subspace, replace=False)\n",
    "\n",
    "\n",
    "  @staticmethod\n",
    "  def get_subsample(X, y, idx_subspace, idx_obj):\n",
    "    \"\"\"\n",
    "    Заполните тело этой функции таким образом, чтобы она возвращала подвыборку x_sampled, y_sampled\n",
    "    по значениям индексов признаков(idx_subspace) и объектов(idx_obj) , которые должны в неё попасть\n",
    "    \"\"\"\n",
    "\n",
    "    return X[np.ix_(idx_obj, idx_subspace)], y[idx_obj]\n"
   ]
  },
  {
   "cell_type": "markdown",
   "metadata": {
    "id": "9kUI0HufQa7b"
   },
   "source": [
    "# Пример формата входных и выходных данных"
   ]
  },
  {
   "cell_type": "code",
   "execution_count": 73,
   "metadata": {},
   "outputs": [],
   "source": [
    "X = np.array([[1,2,3], [4,5,6], [7,8,9]])\n",
    "Y = np.array([1, 2, 3])\n",
    "s = sample(X, 2)\n",
    "\n",
    "bootstrap_indices = s.bootstrap_sample(X)\n",
    "X_sampled, y_sampled = s.get_subsample(X, Y, s.idx_subspace, bootstrap_indices)"
   ]
  },
  {
   "cell_type": "code",
   "execution_count": 74,
   "metadata": {
    "id": "t5ObaQ8MQl-e"
   },
   "outputs": [],
   "source": [
    "X = np.array([[1,2,3], [4,5,6], [7,8,9]])\n",
    "Y = np.array([1, 2, 3])\n",
    "s = sample(X, 2)\n",
    "\n",
    "bootstrap_indices = s.bootstrap_sample(X)\n",
    "X_sampled, y_sampled = s.get_subsample(X, Y, s.idx_subspace, bootstrap_indices)"
   ]
  },
  {
   "cell_type": "code",
   "execution_count": 75,
   "metadata": {
    "colab": {
     "base_uri": "https://localhost:8080/"
    },
    "id": "kx_-y3ATRl1f",
    "outputId": "8c234f00-a14f-4a9b-fe84-72641f29e3e6"
   },
   "outputs": [
    {
     "data": {
      "text/plain": [
       "array([0, 2])"
      ]
     },
     "execution_count": 75,
     "metadata": {},
     "output_type": "execute_result"
    }
   ],
   "source": [
    "# Строки, выбранные из исходного массива X\n",
    "bootstrap_indices"
   ]
  },
  {
   "cell_type": "code",
   "execution_count": 76,
   "metadata": {
    "colab": {
     "base_uri": "https://localhost:8080/"
    },
    "id": "tSF8hy3FRmyP",
    "outputId": "7ef58eec-d966-4cb2-d7ea-28daa5226199"
   },
   "outputs": [
    {
     "data": {
      "text/plain": [
       "array([0, 1])"
      ]
     },
     "execution_count": 76,
     "metadata": {},
     "output_type": "execute_result"
    }
   ],
   "source": [
    "# Столбцы, выбранные из исходного массива X\n",
    "s.idx_subspace"
   ]
  },
  {
   "cell_type": "code",
   "execution_count": 77,
   "metadata": {
    "colab": {
     "base_uri": "https://localhost:8080/"
    },
    "id": "OiDNFq6zRg8G",
    "outputId": "a384189b-1d8d-4ab7-dc07-f693e5eb05ec"
   },
   "outputs": [
    {
     "data": {
      "text/plain": [
       "array([[1, 2],\n",
       "       [7, 8]])"
      ]
     },
     "execution_count": 77,
     "metadata": {},
     "output_type": "execute_result"
    }
   ],
   "source": [
    "# Матрица на выходе\n",
    "X_sampled"
   ]
  },
  {
   "cell_type": "code",
   "execution_count": 78,
   "metadata": {
    "colab": {
     "base_uri": "https://localhost:8080/"
    },
    "id": "JEaXXOO9RiVZ",
    "outputId": "903f178e-4d32-4787-cda9-b0d60d9ffac2"
   },
   "outputs": [
    {
     "data": {
      "text/plain": [
       "array([1, 3])"
      ]
     },
     "execution_count": 78,
     "metadata": {},
     "output_type": "execute_result"
    }
   ],
   "source": [
    "# Вектор ответов на выходе\n",
    "y_sampled"
   ]
  },
  {
   "cell_type": "markdown",
   "metadata": {
    "id": "3fEZJ19GIl1W"
   },
   "source": [
    "## Примечания\n",
    "\n",
    "1. Не забывайте, что в качестве ответа на задание нужно отправлять именно реализованный класс, соответствующиий [шаблону выше](https://colab.research.google.com/drive/1LoXr0Rwmcivgla2gAzOKuLgh2ISlokvv#scrollTo=juW_Uoo_ic0z&line=5&uniqifier=1).\n",
    "\n",
    "2. Подумайте, что должны возвращать методы bootstrap_sample и random_subspace (одна из функций возвращает индексы строк, другая - индексы столбцов).\n",
    "\n",
    "3. Пример из блокнота не обязан совпадать с входными данными из блокнота. Он дан лишь для проверки алгоритмов в указанном формате.\n",
    "\n",
    "4. Подумайте, в каких реализуемых методах нужен numpy.unique(), а в каких - нет.\n",
    "\n",
    "5. В реализуемых методах запрещается использовать вывод любой информации на экран (в частности, недопустимо использование print())."
   ]
  }
 ],
 "metadata": {
  "colab": {
   "provenance": []
  },
  "kernelspec": {
   "display_name": "data_analysis",
   "language": "python",
   "name": "python3"
  },
  "language_info": {
   "codemirror_mode": {
    "name": "ipython",
    "version": 3
   },
   "file_extension": ".py",
   "mimetype": "text/x-python",
   "name": "python",
   "nbconvert_exporter": "python",
   "pygments_lexer": "ipython3",
   "version": "3.12.6"
  }
 },
 "nbformat": 4,
 "nbformat_minor": 0
}
