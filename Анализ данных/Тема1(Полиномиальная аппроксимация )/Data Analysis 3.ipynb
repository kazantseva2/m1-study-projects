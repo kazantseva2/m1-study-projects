{
 "cells": [
  {
   "cell_type": "markdown",
   "metadata": {},
   "source": [
    "## 1.3. Сингулярное разложение"
   ]
  },
  {
   "cell_type": "markdown",
   "metadata": {},
   "source": [
    "Этот ноутбук демонстрирует использование сингулярного разложения (SVD) для нескольких целей: приближение матрицы, решение задачи наименьших квадратов и сжатие изображений."
   ]
  },
  {
   "cell_type": "code",
   "execution_count": 1,
   "metadata": {},
   "outputs": [],
   "source": [
    "import numpy as np\n",
    "import matplotlib\n",
    "import matplotlib.pyplot as plt\n",
    "from matplotlib import pyplot\n",
    "from matplotlib import image"
   ]
  },
  {
   "cell_type": "markdown",
   "metadata": {},
   "source": [
    "### Сингулярное разложение матрицы "
   ]
  },
  {
   "cell_type": "markdown",
   "metadata": {},
   "source": [
    "Здесь мы:\n",
    "1) разложили матрицу (сингулярное разложение): A -> U, s, Vh\n",
    "2) потом восстановили -> Ar\n",
    "3) а потом обрезали до r=2 сингулярные числа, получив приблизительное значение исходной матрицы A"
   ]
  },
  {
   "cell_type": "code",
   "execution_count": 8,
   "metadata": {},
   "outputs": [
    {
     "name": "stdout",
     "output_type": "stream",
     "text": [
      "A= [[ 1.    2.    3.  ]\n",
      " [ 4.    5.    6.  ]\n",
      " [ 7.    8.    9.  ]\n",
      " [10.   11.   12.01]]\n",
      "\n",
      "U= [[-1.40857707e-01 -8.25725808e-01  3.62862688e-01 -4.08248290e-01]\n",
      " [-3.43885005e-01 -4.25789858e-01 -1.83791821e-01  8.16496581e-01]\n",
      " [-5.46912303e-01 -2.58539085e-02 -7.30446330e-01 -4.08248290e-01]\n",
      " [-7.50192737e-01  3.69068372e-01  5.48634117e-01 -1.42830192e-13]]\n",
      "\n",
      "sigma= [2.54672427e+01 1.28827170e+00 2.23979095e-03]\n",
      "\n",
      "Vh= [[-0.5044406  -0.57440686 -0.64466769]\n",
      " [ 0.76134647  0.05629241 -0.64589683]\n",
      " [ 0.40729747 -0.81663206  0.40892646]]\n",
      "\n",
      "Condition = 11370.365919730471\n",
      "\n",
      "[[ 1.    2.    3.  ]\n",
      " [ 4.    5.    6.  ]\n",
      " [ 7.    8.    9.  ]\n",
      " [10.   11.   12.01]]\n",
      "\n",
      "True\n",
      "Разница [[-4.44089210e-16 -7.10542736e-15 -1.19904087e-14]\n",
      " [ 0.00000000e+00 -1.77635684e-15 -3.55271368e-15]\n",
      " [-2.66453526e-15 -3.55271368e-15 -5.32907052e-15]\n",
      " [ 0.00000000e+00 -1.77635684e-15 -5.32907052e-15]]\n",
      "\n",
      "[[ 0.99966897  2.00066371  2.99966765]\n",
      " [ 4.00016767  4.99966383  6.00016834]\n",
      " [ 7.00066636  7.99866395  9.00066902]\n",
      " [ 9.9994995  11.0010035  12.0094975 ]]\n"
     ]
    }
   ],
   "source": [
    "A = np.array([[1,2,3],\n",
    "              [4,5,6],\n",
    "              [7,8,9],\n",
    "              [10,11,12.01]])\n",
    "\n",
    "U, s, Vh = np.linalg.svd(A) # singular value decomposition A=U*Sigma*Vh\n",
    "\n",
    "# U - matrix with right singular vetors in columns\n",
    "# s - vector of singular values\n",
    "# Vh - matrix with left singular vectors in rows\n",
    "\n",
    "print ('A=', A)\n",
    "print ()\n",
    "print ('U=', U)\n",
    "print()\n",
    "print ('sigma=', s)\n",
    "print()\n",
    "print ('Vh=',Vh)\n",
    "print()\n",
    "print ('Condition =', s[0]/s[-1]) \n",
    "print ()\n",
    "\n",
    "\n",
    "# reconstruct A \n",
    "\n",
    "n, m = A.shape\n",
    "Sigma = np.eye (n,m)\n",
    "\n",
    "for j in range (0,m):\n",
    "    Sigma[j,j]=s[j]\n",
    "           \n",
    "Ar = U @ Sigma @ Vh\n",
    "\n",
    "print (Ar)\n",
    "print ()\n",
    "\n",
    "print (np.allclose(A, Ar)) # check the result: матрицы мб не равны из-за численного вычисления сингулярного разложения\n",
    "print(\"Разница:\", A - Ar)  # показать разницу между матрицами\n",
    "print ()\n",
    "\n",
    "# reconstruct matrix with cutoff for small singular values\n",
    "\n",
    "AA = np.zeros (A.shape)\n",
    "\n",
    "r = 2 # number of singular values taking into account\n",
    "\n",
    "for i in range (0,r):\n",
    "    AA +=s[i]*np.outer(U[:,i],Vh[i,:])\n",
    "    \n",
    "print (AA)\n",
    "# if r = size of s then matrix AA is identical to original matrix A   "
   ]
  },
  {
   "cell_type": "markdown",
   "metadata": {},
   "source": [
    "### Сингулярное разложение в задаче наименьших квадратов "
   ]
  },
  {
   "cell_type": "code",
   "execution_count": 3,
   "metadata": {},
   "outputs": [
    {
     "name": "stdout",
     "output_type": "stream",
     "text": [
      "texact [1 1 1]\n",
      "tclassic [  6.71377777 -10.47774932   6.75642192]\n",
      "tsvd [0.98968011 0.99907549 1.00943057]\n"
     ]
    }
   ],
   "source": [
    "# consider the problem A*t=y\n",
    "\n",
    "texact = np.array([1,1,1]) # define exact solution\n",
    "\n",
    "# generate vector y\n",
    "\n",
    "y = A @ texact\n",
    "delta = 0.05 * np.random.randn(len(y))\n",
    "y = y + delta # зашумили решения\n",
    "\n",
    "# Classical LS method\n",
    "\n",
    "AT = A.T\n",
    "G = AT @ A\n",
    "z = AT @ y\n",
    "tclassic = np.linalg.solve(G, z)\n",
    "\n",
    "# SVD LS method\n",
    "\n",
    "tsvd = np.zeros (len(texact))\n",
    "\n",
    "r = 2 # number of singular values taking into account\n",
    "\n",
    "for i in range (0,r): # убрали малые сингулярные значения, и система стала устойчевей\n",
    "    tsvd += 1./s[i] * U[:,i] @ y * Vh[i,:]\n",
    "    \n",
    "print ('texact', texact)\n",
    "print ('tclassic', tclassic)\n",
    "print ('tsvd', tsvd)"
   ]
  },
  {
   "cell_type": "markdown",
   "metadata": {},
   "source": [
    "### Псевдообратная матрица"
   ]
  },
  {
   "cell_type": "markdown",
   "metadata": {},
   "source": [
    "Псевдообратная матрица A+ позволяет находить решения для переопределенных систем линейных уравнений (где количество уравнений больше, чем количество неизвестных) и определяет \"лучшее\" приближение решения."
   ]
  },
  {
   "cell_type": "code",
   "execution_count": 4,
   "metadata": {},
   "outputs": [
    {
     "name": "stdout",
     "output_type": "stream",
     "text": [
      "True\n",
      "\n",
      "True\n",
      "\n",
      "True\n",
      "\n",
      "[[  65.5         -33.66666667 -132.83333333  100.        ]\n",
      " [-132.33333333   67.          266.33333333 -200.        ]\n",
      " [  66.66666667  -33.33333333 -133.33333333  100.        ]]\n",
      "\n",
      "tsvd2 [0.98968011 0.99907549 1.00943057]\n"
     ]
    }
   ],
   "source": [
    "# A+=V*Sigma+*Uh\n",
    "\n",
    "SigmaPlus = np.eye(n,m) # Создание нулевой матрицы\n",
    "\n",
    "for j in range (0,m):\n",
    "    SigmaPlus[j,j]=1./s[j]  # Инверсия сингулярных значений для псевдообратной матрицы сигма+\n",
    "\n",
    "# constract pseudo inverse matrix from SVD: A+=V*Sigma+*Uh <-построение псевдообратной матрицы A+\n",
    "Aplus1 = Vh.T @ SigmaPlus.T @ U.T\n",
    "print (np.allclose(A, A@Aplus1@A)) # check the result # Проверка A = A * A^+ * A\n",
    "print ()\n",
    "\n",
    "# construct pseudo inverse matrix from the original one: A+=(At*A)^-1*At  <- альтернативное построение псевдообратной матрицы A+\n",
    "Aplus2 = np.linalg.inv(A.T @ A) @ A.T\n",
    "print (np.allclose(A, A@Aplus2@A)) # check the result # Проверка A = A * A^+ * A\n",
    "print ()\n",
    "\n",
    "# calculate pseudo inverse matrix with NumPy <- c  использованием NumPy\n",
    "Aplus3 = np.linalg.pinv(A)\n",
    "print (np.allclose(A, A@Aplus3@A)) # check the result # Проверка A = A * A^+ * A\n",
    "print ()\n",
    "\n",
    "print (Aplus1)\n",
    "print ()\n",
    "\n",
    "# solve LS problem\n",
    "\n",
    "Aplus = np.linalg.pinv(A, rcond = 1e-2)\n",
    "\n",
    "# Cutoff for small singular values \n",
    "# Singular values less than or equal to rcond * largest_singular_value are set to zero\n",
    "\n",
    "tsvd2 = Aplus @ y  # Решение с использованием псевдообратной матрицы\n",
    "print ('tsvd2', tsvd2 )"
   ]
  },
  {
   "cell_type": "markdown",
   "metadata": {},
   "source": [
    "### Сжатие изображений с помощью сингулярного разложения"
   ]
  },
  {
   "cell_type": "code",
   "execution_count": 5,
   "metadata": {},
   "outputs": [],
   "source": [
    "def to_grayscale(img):\n",
    "    return np.dot(img[..., :3], [0.3333, 0.3333, 0.3333])"
   ]
  },
  {
   "cell_type": "code",
   "execution_count": 6,
   "metadata": {},
   "outputs": [
    {
     "name": "stderr",
     "output_type": "stream",
     "text": [
      "<>:1: SyntaxWarning: invalid escape sequence '\\p'\n",
      "<>:1: SyntaxWarning: invalid escape sequence '\\p'\n",
      "/tmp/ipykernel_111171/2957720397.py:1: SyntaxWarning: invalid escape sequence '\\p'\n",
      "  path = '.\\photo.png'\n",
      "/tmp/ipykernel_111171/2957720397.py:1: SyntaxWarning: invalid escape sequence '\\p'\n",
      "  path = '.\\photo.png'\n"
     ]
    },
    {
     "ename": "FileNotFoundError",
     "evalue": "[Errno 2] No such file or directory: '.\\\\photo.png'",
     "output_type": "error",
     "traceback": [
      "\u001b[0;31m---------------------------------------------------------------------------\u001b[0m",
      "\u001b[0;31mFileNotFoundError\u001b[0m                         Traceback (most recent call last)",
      "Cell \u001b[0;32mIn[6], line 5\u001b[0m\n\u001b[1;32m      1\u001b[0m path \u001b[38;5;241m=\u001b[39m \u001b[38;5;124m'\u001b[39m\u001b[38;5;124m.\u001b[39m\u001b[38;5;124m\\\u001b[39m\u001b[38;5;124mphoto.png\u001b[39m\u001b[38;5;124m'\u001b[39m\n\u001b[1;32m      3\u001b[0m \u001b[38;5;66;03m#path = '.\\DSC_9616.jpg'\u001b[39;00m\n\u001b[0;32m----> 5\u001b[0m img \u001b[38;5;241m=\u001b[39m \u001b[43mmatplotlib\u001b[49m\u001b[38;5;241;43m.\u001b[39;49m\u001b[43mimage\u001b[49m\u001b[38;5;241;43m.\u001b[39;49m\u001b[43mimread\u001b[49m\u001b[43m(\u001b[49m\u001b[43mpath\u001b[49m\u001b[43m)\u001b[49m\n\u001b[1;32m      6\u001b[0m img \u001b[38;5;241m=\u001b[39m to_grayscale(img)\n\u001b[1;32m      8\u001b[0m arr \u001b[38;5;241m=\u001b[39m np\u001b[38;5;241m.\u001b[39marray(img)\n",
      "File \u001b[0;32m~/miniconda3/envs/data_analysis/lib/python3.12/site-packages/matplotlib/image.py:1544\u001b[0m, in \u001b[0;36mimread\u001b[0;34m(fname, format)\u001b[0m\n\u001b[1;32m   1537\u001b[0m \u001b[38;5;28;01mif\u001b[39;00m \u001b[38;5;28misinstance\u001b[39m(fname, \u001b[38;5;28mstr\u001b[39m) \u001b[38;5;129;01mand\u001b[39;00m \u001b[38;5;28mlen\u001b[39m(parse\u001b[38;5;241m.\u001b[39murlparse(fname)\u001b[38;5;241m.\u001b[39mscheme) \u001b[38;5;241m>\u001b[39m \u001b[38;5;241m1\u001b[39m:\n\u001b[1;32m   1538\u001b[0m     \u001b[38;5;66;03m# Pillow doesn't handle URLs directly.\u001b[39;00m\n\u001b[1;32m   1539\u001b[0m     \u001b[38;5;28;01mraise\u001b[39;00m \u001b[38;5;167;01mValueError\u001b[39;00m(\n\u001b[1;32m   1540\u001b[0m         \u001b[38;5;124m\"\u001b[39m\u001b[38;5;124mPlease open the URL for reading and pass the \u001b[39m\u001b[38;5;124m\"\u001b[39m\n\u001b[1;32m   1541\u001b[0m         \u001b[38;5;124m\"\u001b[39m\u001b[38;5;124mresult to Pillow, e.g. with \u001b[39m\u001b[38;5;124m\"\u001b[39m\n\u001b[1;32m   1542\u001b[0m         \u001b[38;5;124m\"\u001b[39m\u001b[38;5;124m``np.array(PIL.Image.open(urllib.request.urlopen(url)))``.\u001b[39m\u001b[38;5;124m\"\u001b[39m\n\u001b[1;32m   1543\u001b[0m         )\n\u001b[0;32m-> 1544\u001b[0m \u001b[38;5;28;01mwith\u001b[39;00m \u001b[43mimg_open\u001b[49m\u001b[43m(\u001b[49m\u001b[43mfname\u001b[49m\u001b[43m)\u001b[49m \u001b[38;5;28;01mas\u001b[39;00m image:\n\u001b[1;32m   1545\u001b[0m     \u001b[38;5;28;01mreturn\u001b[39;00m (_pil_png_to_float_array(image)\n\u001b[1;32m   1546\u001b[0m             \u001b[38;5;28;01mif\u001b[39;00m \u001b[38;5;28misinstance\u001b[39m(image, PIL\u001b[38;5;241m.\u001b[39mPngImagePlugin\u001b[38;5;241m.\u001b[39mPngImageFile) \u001b[38;5;28;01melse\u001b[39;00m\n\u001b[1;32m   1547\u001b[0m             pil_to_array(image))\n",
      "File \u001b[0;32m~/miniconda3/envs/data_analysis/lib/python3.12/site-packages/PIL/ImageFile.py:126\u001b[0m, in \u001b[0;36mImageFile.__init__\u001b[0;34m(self, fp, filename)\u001b[0m\n\u001b[1;32m    122\u001b[0m \u001b[38;5;28mself\u001b[39m\u001b[38;5;241m.\u001b[39mdecodermaxblock \u001b[38;5;241m=\u001b[39m MAXBLOCK\n\u001b[1;32m    124\u001b[0m \u001b[38;5;28;01mif\u001b[39;00m is_path(fp):\n\u001b[1;32m    125\u001b[0m     \u001b[38;5;66;03m# filename\u001b[39;00m\n\u001b[0;32m--> 126\u001b[0m     \u001b[38;5;28mself\u001b[39m\u001b[38;5;241m.\u001b[39mfp \u001b[38;5;241m=\u001b[39m \u001b[38;5;28;43mopen\u001b[39;49m\u001b[43m(\u001b[49m\u001b[43mfp\u001b[49m\u001b[43m,\u001b[49m\u001b[43m \u001b[49m\u001b[38;5;124;43m\"\u001b[39;49m\u001b[38;5;124;43mrb\u001b[39;49m\u001b[38;5;124;43m\"\u001b[39;49m\u001b[43m)\u001b[49m\n\u001b[1;32m    127\u001b[0m     \u001b[38;5;28mself\u001b[39m\u001b[38;5;241m.\u001b[39mfilename \u001b[38;5;241m=\u001b[39m fp\n\u001b[1;32m    128\u001b[0m     \u001b[38;5;28mself\u001b[39m\u001b[38;5;241m.\u001b[39m_exclusive_fp \u001b[38;5;241m=\u001b[39m \u001b[38;5;28;01mTrue\u001b[39;00m\n",
      "\u001b[0;31mFileNotFoundError\u001b[0m: [Errno 2] No such file or directory: '.\\\\photo.png'"
     ]
    }
   ],
   "source": [
    "path = '.\\photo.png'\n",
    "\n",
    "#path = '.\\DSC_9616.jpg'\n",
    "\n",
    "img = matplotlib.image.imread(path)\n",
    "img = to_grayscale(img)\n",
    "\n",
    "arr = np.array(img)\n",
    "print (arr.shape)\n",
    "\n",
    "cond = np.linalg.cond (arr)\n",
    "\n",
    "print (cond)\n",
    "\n",
    "U, s, Vh = np.linalg.svd(arr)\n",
    "\n",
    "plt.plot (s[:50]) # present first 50 singular values\n",
    "plt.figure ()\n",
    "\n",
    "n, m = arr.shape\n",
    "\n",
    "arrplus = np.zeros ((n,m))\n",
    "\n",
    "r = 50 # number of singular values taking into account\n",
    "\n",
    "for i in range (0,r):\n",
    "    arrplus +=s[i]*np.outer(U[:,i],Vh[i,:])\n",
    "    \n",
    "print (arrplus.shape)\n",
    "\n",
    "fig = plt.figure(dpi=180)\n",
    "plt.imshow(arr, cmap='gray', interpolation='none')\n",
    "\n",
    "fig = plt.figure(dpi=180)\n",
    "plt.imshow(arrplus, cmap='gray', interpolation='none')\n",
    "\n",
    "plt.figure()"
   ]
  },
  {
   "cell_type": "markdown",
   "metadata": {},
   "source": [
    "Что мы храним при сжатии с использованием SVD\n",
    "\n",
    "    1) Часть сингулярных значений:\n",
    "        В исходной матрице A могут быть много сингулярных значений, но в процессе сжатия мы можем выбрать только первые r наиболее значимых значений.\n",
    "        Эти сингулярные значения хранятся в диагональной матрице Σr​.\n",
    "\n",
    "    2) Часть матриц UU и VTVT:\n",
    "        Вместо того чтобы хранить полные матрицы U и V.T, мы можем сохранить только первые r столбцов из U и первые r строк из V.T.\n",
    "        Это означает, что мы храним лишь значимые компоненты, которые соответствуют выбранным сингулярным значениям."
   ]
  },
  {
   "cell_type": "code",
   "execution_count": null,
   "metadata": {},
   "outputs": [],
   "source": []
  }
 ],
 "metadata": {
  "kernelspec": {
   "display_name": "data_analysis",
   "language": "python",
   "name": "python3"
  },
  "language_info": {
   "codemirror_mode": {
    "name": "ipython",
    "version": 3
   },
   "file_extension": ".py",
   "mimetype": "text/x-python",
   "name": "python",
   "nbconvert_exporter": "python",
   "pygments_lexer": "ipython3",
   "version": "3.12.6"
  }
 },
 "nbformat": 4,
 "nbformat_minor": 2
}
