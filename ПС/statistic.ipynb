{
 "cells": [
  {
   "cell_type": "code",
   "execution_count": 2,
   "metadata": {},
   "outputs": [],
   "source": [
    "import pandas as pd\n",
    "import numpy as np\n",
    "import statsmodels.api as sm\n",
    "from statsmodels.formula.api import ols\n"
   ]
  },
  {
   "cell_type": "code",
   "execution_count": 3,
   "metadata": {},
   "outputs": [],
   "source": [
    "# # Загрузка данных из текстового файла\n",
    "# data = pd.read_csv('hypertension.txt', sep='\\t')\n",
    "\n",
    "# # Сохранение данных в Excel\n",
    "# data.to_excel('hypertension.xlsx', index=False, engine='openpyxl')\n",
    "\n",
    "# print(\"Файл успешно конвертирован в hypertension.xlsx!\")"
   ]
  },
  {
   "cell_type": "code",
   "execution_count": 4,
   "metadata": {},
   "outputs": [],
   "source": [
    "# Чтение данных из файла\n",
    "data = pd.read_csv('hypertension.txt', sep='\\t')\n"
   ]
  },
  {
   "cell_type": "code",
   "execution_count": 5,
   "metadata": {},
   "outputs": [
    {
     "name": "stdout",
     "output_type": "stream",
     "text": [
      "Результаты трёхфакторного дисперсионного анализа:\n",
      "                           sum_sq    df          F        PR(>F)\n",
      "C(psycho)                  2048.0   1.0  13.072340  6.150719e-04\n",
      "C(diet)                    5202.0   1.0  33.204255  3.053308e-07\n",
      "C(drug)                    3675.0   2.0  11.728723  5.018624e-05\n",
      "C(psycho):C(diet)            32.0   1.0   0.204255  6.529374e-01\n",
      "C(psycho):C(drug)           259.0   2.0   0.826596  4.424565e-01\n",
      "C(diet):C(drug)             903.0   2.0   2.881915  6.381527e-02\n",
      "C(psycho):C(diet):C(drug)  1075.0   2.0   3.430851  3.883423e-02\n",
      "Residual                   9400.0  60.0        NaN           NaN\n"
     ]
    }
   ],
   "source": [
    "# Преобразование категориальных данных\n",
    "data['psycho'] = data['psycho'].astype('category')\n",
    "data['diet'] = data['diet'].astype('category')\n",
    "data['drug'] = data['drug'].astype('category')\n",
    "\n",
    "# Трёхфакторный дисперсионный анализ\n",
    "model = ols('pressure ~ C(psycho) * C(diet) * C(drug)', data=data).fit()\n",
    "anova_table = sm.stats.anova_lm(model, typ=2)\n",
    "\n",
    "# Вывод результатов\n",
    "print(\"Результаты трёхфакторного дисперсионного анализа:\")\n",
    "print(anova_table)"
   ]
  },
  {
   "cell_type": "code",
   "execution_count": 6,
   "metadata": {},
   "outputs": [
    {
     "name": "stdout",
     "output_type": "stream",
     "text": [
      "Таблица ANOVA:\n",
      "                 sum_sq    df          F    PR(>F)\n",
      "C(diet)          2209.0   1.0  15.248504  0.000496\n",
      "C(drug)          2342.0   2.0   8.083295  0.001556\n",
      "C(diet):C(drug)  1634.0   2.0   5.639669  0.008334\n",
      "Residual         4346.0  30.0        NaN       NaN\n",
      "\n",
      "Детали модели:\n",
      "                            OLS Regression Results                            \n",
      "==============================================================================\n",
      "Dep. Variable:               pressure   R-squared:                       0.587\n",
      "Model:                            OLS   Adj. R-squared:                  0.519\n",
      "Method:                 Least Squares   F-statistic:                     8.539\n",
      "Date:                Fri, 03 Jan 2025   Prob (F-statistic):           4.06e-05\n",
      "Time:                        04:49:16   Log-Likelihood:                -137.36\n",
      "No. Observations:                  36   AIC:                             286.7\n",
      "Df Residuals:                      30   BIC:                             296.2\n",
      "Df Model:                           5                                         \n",
      "Covariance Type:            nonrobust                                         \n",
      "===================================================================================================\n",
      "                                      coef    std err          t      P>|t|      [0.025      0.975]\n",
      "---------------------------------------------------------------------------------------------------\n",
      "Intercept                         168.0000      4.914     34.190      0.000     157.965     178.035\n",
      "C(diet)[T.present]                  1.0000      6.949      0.144      0.887     -13.192      15.192\n",
      "C(drug)[T.2]                       36.0000      6.949      5.181      0.000      21.808      50.192\n",
      "C(drug)[T.3]                       21.0000      6.949      3.022      0.005       6.808      35.192\n",
      "C(diet)[T.present]:C(drug)[T.2]   -33.0000      9.827     -3.358      0.002     -53.070     -12.930\n",
      "C(diet)[T.present]:C(drug)[T.3]   -17.0000      9.827     -1.730      0.094     -37.070       3.070\n",
      "==============================================================================\n",
      "Omnibus:                        6.377   Durbin-Watson:                   2.186\n",
      "Prob(Omnibus):                  0.041   Jarque-Bera (JB):                2.074\n",
      "Skew:                          -0.059   Prob(JB):                        0.354\n",
      "Kurtosis:                       1.830   Cond. No.                         9.77\n",
      "==============================================================================\n",
      "\n",
      "Notes:\n",
      "[1] Standard Errors assume that the covariance matrix of the errors is correctly specified.\n"
     ]
    }
   ],
   "source": [
    "# Фильтрация данных для случаев, где применялась психотерапия\n",
    "filtered_data = data[data['psycho'] == 'present']\n",
    "\n",
    "# Двухфакторный дисперсионный анализ с учетом влияния diet и drug\n",
    "model = ols('pressure ~ C(diet) + C(drug) + C(diet):C(drug)', data=filtered_data).fit()\n",
    "anova_table = sm.stats.anova_lm(model, typ=2)\n",
    "\n",
    "# Вывод таблицы ANOVA\n",
    "print(\"Таблица ANOVA:\")\n",
    "print(anova_table)\n",
    "\n",
    "# Подробный отчет по модели\n",
    "print(\"\\nДетали модели:\")\n",
    "print(model.summary())\n",
    "\n",
    "\n"
   ]
  },
  {
   "cell_type": "code",
   "execution_count": 7,
   "metadata": {},
   "outputs": [
    {
     "name": "stdout",
     "output_type": "stream",
     "text": [
      "\n",
      "Результаты двухстороннего ANOVA:\n",
      "                 sum_sq    df          F    PR(>F)\n",
      "C(diet)          2209.0   1.0  15.248504  0.000496\n",
      "C(drug)          2342.0   2.0   8.083295  0.001556\n",
      "C(diet):C(drug)  1634.0   2.0   5.639669  0.008334\n",
      "Residual         4346.0  30.0        NaN       NaN\n",
      "\n",
      "Значимое взаимодействие между диетой и препаратом. Выполняется односторонний ANOVA:\n",
      "\n",
      "Односторонний ANOVA для диеты absent:\n",
      "          sum_sq    df          F    PR(>F)\n",
      "C(drug)   3924.0   2.0  14.939086  0.000269\n",
      "Residual  1970.0  15.0        NaN       NaN\n",
      "\n",
      "Односторонний ANOVA для диеты present:\n",
      "          sum_sq    df         F    PR(>F)\n",
      "C(drug)     52.0   2.0  0.164141  0.850126\n",
      "Residual  2376.0  15.0       NaN       NaN\n"
     ]
    }
   ],
   "source": [
    "# Шаг 3: Для пациентов, проходящих психотерапию\n",
    "data_subset = data[data['psycho'] == 'present']\n",
    "\n",
    "# Двусторонний ANOVA\n",
    "model = ols('pressure ~ C(diet) * C(drug)', data=data_subset).fit()\n",
    "anova_table = sm.stats.anova_lm(model, typ=2)\n",
    "print(\"\\nРезультаты двухстороннего ANOVA:\")\n",
    "print(anova_table)\n",
    "\n",
    "# Проверка значимости взаимодействий\n",
    "if anova_table['PR(>F)']['C(diet):C(drug)'] < 0.05:\n",
    "    print(\"\\nЗначимое взаимодействие между диетой и препаратом. Выполняется односторонний ANOVA:\")\n",
    "    for diet_level in data_subset['diet'].unique():\n",
    "        subset = data_subset[data_subset['diet'] == diet_level]\n",
    "        model_single = ols('pressure ~ C(drug)', data=subset).fit()\n",
    "        anova_single = sm.stats.anova_lm(model_single, typ=2)\n",
    "        print(f\"\\nОдносторонний ANOVA для диеты {diet_level}:\")\n",
    "        print(anova_single)\n",
    "else:\n",
    "    print(\"\\nВзаимодействие между диетой и препаратом незначимо. Дополнительный анализ не требуется.\")\n",
    "    "
   ]
  },
  {
   "cell_type": "code",
   "execution_count": 8,
   "metadata": {},
   "outputs": [
    {
     "name": "stdout",
     "output_type": "stream",
     "text": [
      "\n",
      "Средние значения давления для каждой комбинации диета-препарат:\n",
      "diet     drug\n",
      "absent   1       168.0\n",
      "         2       204.0\n",
      "         3       189.0\n",
      "present  1       169.0\n",
      "         2       172.0\n",
      "         3       173.0\n",
      "Name: pressure, dtype: float64\n",
      "\n",
      "Наилучшие условия для снижения давления: Диета=absent, Препарат=1\n"
     ]
    },
    {
     "name": "stderr",
     "output_type": "stream",
     "text": [
      "C:\\Users\\Varya02\\AppData\\Local\\Temp\\ipykernel_15772\\230488531.py:2: FutureWarning: The default of observed=False is deprecated and will be changed to True in a future version of pandas. Pass observed=False to retain current behavior or observed=True to adopt the future default and silence this warning.\n",
      "  means = data_subset.groupby(['diet', 'drug'])['pressure'].mean()\n"
     ]
    }
   ],
   "source": [
    "# Определение наилучших условий лечения\n",
    "means = data_subset.groupby(['diet', 'drug'])['pressure'].mean()\n",
    "print(\"\\nСредние значения давления для каждой комбинации диета-препарат:\")\n",
    "print(means)\n",
    "best_condition = means.idxmin()\n",
    "print(f\"\\nНаилучшие условия для снижения давления: Диета={best_condition[0]}, Препарат={best_condition[1]}\")\n"
   ]
  },
  {
   "cell_type": "code",
   "execution_count": 10,
   "metadata": {},
   "outputs": [
    {
     "name": "stdout",
     "output_type": "stream",
     "text": [
      " Multiple Comparison of Means - Tukey HSD, FWER=0.05 \n",
      "=====================================================\n",
      "group1 group2 meandiff p-adj   lower    upper  reject\n",
      "-----------------------------------------------------\n",
      "     1      2     24.0 0.0006   9.8911 38.1089   True\n",
      "     1      3     21.0 0.0025   6.8911 35.1089   True\n",
      "     2      3     -3.0 0.8613 -17.1089 11.1089  False\n",
      "-----------------------------------------------------\n"
     ]
    }
   ],
   "source": [
    "from statsmodels.stats.multicomp import pairwise_tukeyhsd\n",
    "\n",
    "# Пример: данные по артериальному давлению, сгруппированные по факторам\n",
    "data_subset = data[data['diet'] == 'absent']  # Подгруппа без диеты\n",
    "tukey_results = pairwise_tukeyhsd(endog=data_subset['pressure'], \n",
    "                                  groups=data_subset['drug'], \n",
    "                                  alpha=0.05)\n",
    "\n",
    "print(tukey_results)\n"
   ]
  }
 ],
 "metadata": {
  "kernelspec": {
   "display_name": "project",
   "language": "python",
   "name": "python3"
  },
  "language_info": {
   "codemirror_mode": {
    "name": "ipython",
    "version": 3
   },
   "file_extension": ".py",
   "mimetype": "text/x-python",
   "name": "python",
   "nbconvert_exporter": "python",
   "pygments_lexer": "ipython3",
   "version": "3.13.1"
  }
 },
 "nbformat": 4,
 "nbformat_minor": 2
}
